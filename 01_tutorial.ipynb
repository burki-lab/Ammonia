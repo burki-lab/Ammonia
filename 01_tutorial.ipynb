{
 "cells": [
  {
   "cell_type": "code",
   "execution_count": 1,
   "id": "38b8e1c3-46c0-458a-8265-59688164bc94",
   "metadata": {},
   "outputs": [
    {
     "name": "stdout",
     "output_type": "stream",
     "text": [
      "3.9.6 (default, Aug 18 2021, 19:38:01) \n",
      "[GCC 7.5.0]\n",
      "Pretty printing has been turned OFF\n"
     ]
    }
   ],
   "source": [
    "# THIS IS THE PREAMBLE\n",
    "# imports\n",
    "import yaml              # load package to work with YAML files\n",
    "import os                # load package for interaction with operating system (e.g. paths)\n",
    "import sys               # load package for interaction with runtime environment (e.g. environmental variables)\n",
    "import pandas as pd      # load package for working with tabular data\n",
    "\n",
    "# version documentation\n",
    "print(sys.version)\n",
    "# Check if python is 3.9.6\n",
    "\n",
    "# notebook magics\n",
    "%pprint                  # for more pretty print out\n",
    "                         # for inline plots\n",
    "%matplotlib inline       \n",
    "                         # loading the extension for package autoreload\n",
    "%load_ext autoreload\n",
    "                         # activating the extension for package autoreload\n",
    "%autoreload 2"
   ]
  },
  {
   "cell_type": "markdown",
   "id": "61875a7f-4b39-4824-98f0-848cb83defe4",
   "metadata": {},
   "source": [
    "# Tjena Jupyter!"
   ]
  },
  {
   "cell_type": "markdown",
   "id": "14a7ce1a-3237-47a2-9495-126667e4e5b3",
   "metadata": {},
   "source": [
    "Welcome to our incredibly advanced Jupyter tutorial. It should\n",
    "- introduce you to Jupyter as useful documentation and analyses framework\n",
    "- show how to install and start Jupyter with R kernels\n",
    "- help to find out how to run Jupyter on compute nodes of a cluster\n",
    "- guide some cool things run on a Jupyter notebook."
   ]
  },
  {
   "cell_type": "markdown",
   "id": "5b6ef6c6-ebdd-4884-8298-2c3cbcf92b1e",
   "metadata": {},
   "source": [
    "*The first source of confusion may be the first cell of the notebook, titled by `# THIS IS THE PREAMBLE`. That is the preamble and defines some useful otions of the notebook. Simple use for it: Adjust, copy and paste it to any of your notebooks. Some infos about it can be found [here](https://skeptric.com/jupyter-init/), some [cool ideas here](https://towardsdatascience.com/top-8-magic-commands-in-jupyter-notebook-c1582e813560) or for [the whole Jupyter magic here](https://ipython.readthedocs.io/en/stable/interactive/magics.html).*"
   ]
  },
  {
   "cell_type": "markdown",
   "id": "70d8fbc2-bf3f-4a42-bf4a-30e4345eb1f3",
   "metadata": {},
   "source": [
    "---\n",
    "## What is Jupyter?"
   ]
  },
  {
   "cell_type": "markdown",
   "id": "863185df-7369-4181-a81e-24af8f8d43ec",
   "metadata": {},
   "source": [
    "[Project Jupyter](https://en.wikipedia.org/wiki/Project_Jupyter) tries to combine programming language interfaces with documentation in a webpage like format. Thus, the backbone of this notebook is as for most webpages, an [`HTML` page](https://en.wikipedia.org/wiki/HTML) core, with [`CSS` style sheets](https://en.wikipedia.org/wiki/CSS) and interactivity due to some [`JavaScript` magic](https://en.wikipedia.org/wiki/JavaScript). It wrappes around a programming language kernel and therefore allows to run code within. Also, it can be used as a file browser and viewer for multiple different filetypes. One usually opens it from ones preferred bowser, we recommend open source browsers, e.g. [Brave](https://brave.com/)."
   ]
  },
  {
   "cell_type": "markdown",
   "id": "d6dcea0d-9c2b-4cf7-b02d-292c3ddca235",
   "metadata": {},
   "source": [
    "---\n",
    "## Installation"
   ]
  },
  {
   "cell_type": "markdown",
   "id": "e766da26-83a3-4103-bdc3-2c27bca63ee6",
   "metadata": {},
   "source": [
    "Best use is to simply install [`JupyterLab`](https://jupyterlab.readthedocs.io/en/stable/) via [`Conda`](https://docs.conda.io/en/latest/) or [`Mamba`](https://mamba.readthedocs.io/en/latest/index.html)."
   ]
  },
  {
   "cell_type": "markdown",
   "id": "bedcb054-ab3c-4f1c-a2d4-5704319edcca",
   "metadata": {},
   "source": [
    "For `Conda` run:"
   ]
  },
  {
   "cell_type": "raw",
   "id": "3bd74a5b-787d-4324-b8ae-9f05341c0c5d",
   "metadata": {},
   "source": [
    "conda install -c conda-forge jupyterlab"
   ]
  },
  {
   "cell_type": "markdown",
   "id": "ee2f4bae-6843-4f48-8d43-fcbcf214014e",
   "metadata": {},
   "source": [
    "... for `Mamba` rather:"
   ]
  },
  {
   "cell_type": "raw",
   "id": "04ec0e19-cdca-4867-9471-b2c3eb26f1d8",
   "metadata": {},
   "source": [
    "mamba install -c conda-forge jupyterlab"
   ]
  },
  {
   "cell_type": "markdown",
   "id": "74b538fc-2bae-47b2-9718-a784647b246b",
   "metadata": {},
   "source": [
    "One could also just install the simple `JupyterNotebook` (not recommended ;-)), which is a single notebook version of the `JupyterLab`. It does not include a file browser or opening multiple notebooks in parallel."
   ]
  },
  {
   "cell_type": "raw",
   "id": "48b3ae6a-22f6-4cc2-a659-48bd524d4122",
   "metadata": {},
   "source": [
    "conda install -c conda-forge notebook "
   ]
  },
  {
   "cell_type": "markdown",
   "id": "266d617b-9706-4141-8bdb-600fd05cd062",
   "metadata": {},
   "source": [
    "<div class=\"alert alert-block alert-info\">\n",
    "<b>Wow</b> - Inside markdown cells one can use html code (e.g. to make colored alert blocks) as well as Emojis 🤙\n",
    "</div>"
   ]
  },
  {
   "cell_type": "markdown",
   "id": "b6f4fff0-aa11-4b5b-b4b1-41370ec3153c",
   "metadata": {},
   "source": [
    "### Run it first time"
   ]
  },
  {
   "cell_type": "markdown",
   "id": "ba862ec7-cc96-4faa-9a97-f7cb7e0acaa3",
   "metadata": {},
   "source": [
    "To start `JupyterLab` on a local computer one simply run the following command from a terminal window:"
   ]
  },
  {
   "cell_type": "raw",
   "id": "0f80f506-9885-4a5d-a9be-598566db1c32",
   "metadata": {},
   "source": [
    "jupyter lab"
   ]
  },
  {
   "cell_type": "markdown",
   "id": "9aca1aab-aaf0-4f11-bf09-1fb322f59719",
   "metadata": {},
   "source": [
    "<div class=\"alert alert-block alert-danger\">\n",
    "<b>Attention</b> - The directory you run the command of, is the base directory of your JupyterLab file browser.\n",
    "</div>"
   ]
  },
  {
   "cell_type": "markdown",
   "id": "e1bcfc3d-c525-4f14-baad-c5ff349d264b",
   "metadata": {},
   "source": [
    "This will automatically open your default browser and a new tab with your `JupyterLab`. One can omit the automatic pop up by the flag `--no-browser` and define the port of the local host with `--port=$PORT`."
   ]
  },
  {
   "cell_type": "raw",
   "id": "690812bb-781a-40c3-9665-c3ee5b236d76",
   "metadata": {},
   "source": [
    "jupyter lab --no-browser --port=8844"
   ]
  },
  {
   "cell_type": "markdown",
   "id": "d90ebf36-243b-4392-bbf0-911c5bad6132",
   "metadata": {},
   "source": [
    "<div class=\"alert alert-block alert-warning\">\n",
    "<b>Hint</b> - So you can open multiple JupyterLabs in parallel (multiple different ports) and use your favorite browser. Just copy the link that the terminal tells you to your browser.\n",
    "</div>"
   ]
  },
  {
   "cell_type": "markdown",
   "id": "03a7339f-0ba8-47a5-b887-734db02674db",
   "metadata": {},
   "source": [
    "### Install R kernel"
   ]
  },
  {
   "cell_type": "markdown",
   "id": "d5443c51-39de-4c4b-959f-f15d16642194",
   "metadata": {},
   "source": [
    "In general `JupyterLab` uses [`python`](https://www.python.org/) as programming language for its notebooks. But great enough, one can install many other kernels and use e.g.[`R`](https://www.r-project.org/) or [`Julia`](https://julialang.org/) (side note: [start using Julia!](https://computationalthinking.mit.edu/Fall20/)) in a very handsome way. We want to try installing an R kernel ourselves by using the following [official approach of `IRkernel`](https://irkernel.github.io/installation/)."
   ]
  },
  {
   "cell_type": "raw",
   "id": "a86d1795-ab0a-4af3-bdf4-5eddfaed78ca",
   "metadata": {},
   "source": [
    "# install the package IRkernel\n",
    "install.packages('IRkernel')\n",
    "\n",
    "# to register the kernel in the current R installation\n",
    "IRkernel::installspec() \n",
    "\n",
    "# for RStudio’s shortcuts\n",
    "jupyter labextension install @techrah/text-shortcuts"
   ]
  },
  {
   "cell_type": "markdown",
   "id": "4374bdf3-7406-414c-b337-c0b72ce3c72d",
   "metadata": {},
   "source": [
    "<div class=\"alert alert-block alert-success\">\n",
    "<b>Great</b> - Restart JupyterLab and you should be able to start R notebooks.\n",
    "</div>"
   ]
  },
  {
   "cell_type": "markdown",
   "id": "fc694568-4561-4285-afeb-0c965234cce3",
   "metadata": {},
   "source": [
    "---\n",
    "## Remote access"
   ]
  },
  {
   "cell_type": "markdown",
   "id": "bfd98b19-9007-4374-9b1e-1bba7dd5931f",
   "metadata": {},
   "source": [
    "One can run `JupyterLab` on servers and tunnel them to a local computer. We can do it either directly (on servers like Noisy), or on the compute nodes of SLURM servers (like UPPMAX). "
   ]
  },
  {
   "cell_type": "markdown",
   "id": "15ba9fd2-bc7d-4c01-b39c-1837fc01ae62",
   "metadata": {},
   "source": [
    "### Direct connection to servers"
   ]
  },
  {
   "cell_type": "markdown",
   "id": "f7495c8d-d628-4fc0-9b2a-68ceadba8eb3",
   "metadata": {},
   "source": [
    "Make sure that `JupyterLab` is installed on your server. Then run the following command on the server:"
   ]
  },
  {
   "cell_type": "raw",
   "id": "7fdbc7ac-68e8-4fc6-a8e5-0997a6f61e97",
   "metadata": {},
   "source": [
    "jupyter lab --no-browser --port 8844"
   ]
  },
  {
   "cell_type": "markdown",
   "id": "2444b32c-9a9c-42ec-bfd9-d16d509f7698",
   "metadata": {},
   "source": [
    "<div class=\"alert alert-block alert-warning\">\n",
    "<b>Hint</b> - Our port (8844) can be any number you want to use, but it should be the same in all the following usages.\n",
    "</div>"
   ]
  },
  {
   "cell_type": "markdown",
   "id": "b3f2da0f-4d94-4b48-ad26-29be5664bbc6",
   "metadata": {},
   "source": [
    "As a response you will see a starting message of `JupyterLab` and a prompt for a link like `http://127.0.0.1:8844/lab?token=asaanafnfafn12n5n5jn1n2n52j52`."
   ]
  },
  {
   "cell_type": "markdown",
   "id": "28cc700e-83da-47be-9d25-b502b7b6fff2",
   "metadata": {},
   "source": [
    "Then we tunnel this port from a terminal of the local computer by:"
   ]
  },
  {
   "cell_type": "raw",
   "id": "99cd375f-66fe-4d6a-8781-e2be35d31682",
   "metadata": {},
   "source": [
    "ssh -N -L localhost:8844:localhost:8844 <LOGIN_NAME>@<SERVER_ID>"
   ]
  },
  {
   "cell_type": "markdown",
   "id": "0540c1c7-2fbf-4f58-8096-b50d02960d56",
   "metadata": {},
   "source": [
    "Finally one can start the link from any browser."
   ]
  },
  {
   "cell_type": "markdown",
   "id": "075e65e3-a54a-422a-bbf9-ba1831736034",
   "metadata": {},
   "source": [
    "<div class=\"alert alert-block alert-danger\">\n",
    "<b>Attention</b> - Do not forget to stop JupyterLab after use. Therefore, run for any port you use on server:\n",
    "</div>"
   ]
  },
  {
   "cell_type": "raw",
   "id": "3eb1504a-0171-4719-8904-27f4aef2c494",
   "metadata": {},
   "source": [
    "jupyter lab stop 8844"
   ]
  },
  {
   "cell_type": "markdown",
   "id": "788c5928-418a-4ca1-a0da-2da1af8f658a",
   "metadata": {},
   "source": [
    "### Connection to SLURM server compute nodes"
   ]
  },
  {
   "cell_type": "markdown",
   "id": "906d6968-c41f-4e16-9fb3-0c221b11636b",
   "metadata": {},
   "source": [
    "This procedure (e.g. for UPPMAX) is a bit more complicated but eased up using [this tool:`juppmaxyter_tunnel`](https://github.com/burki-lab/juppmaxyter_tunnel)."
   ]
  },
  {
   "cell_type": "markdown",
   "id": "620e6a64-4ebc-41d9-b63f-13e141821124",
   "metadata": {},
   "source": [
    "---\n",
    "## Using `JupyterLab`"
   ]
  },
  {
   "cell_type": "markdown",
   "id": "49534e83-39ce-452f-a546-5d8af58f9466",
   "metadata": {},
   "source": [
    "### File explorer\n",
    "One amazing feature of `JupyterLab` the file browser. Tyr out yourself and open some different file types in the `./data` directory."
   ]
  },
  {
   "cell_type": "markdown",
   "id": "a343f881-ec03-4df2-b791-ef293a373b3e",
   "metadata": {},
   "source": [
    "### Programming and data analyses"
   ]
  },
  {
   "cell_type": "markdown",
   "id": "ae65d147-c24d-4708-b297-e7aac8852634",
   "metadata": {},
   "source": [
    "This is the main purpose of `JupyterNotebook`s. As this is not thought to be a programming workshop, we just use some blackboxed python functions to expore the possibilities."
   ]
  },
  {
   "cell_type": "markdown",
   "id": "f92168b0-5d72-4995-a3d8-7e24f8488a6d",
   "metadata": {},
   "source": [
    "#### 1 - Print data"
   ]
  },
  {
   "cell_type": "markdown",
   "id": "4da492a8-d621-4fbf-a8fb-b53cf087c5ff",
   "metadata": {},
   "source": [
    "One can simply load different data types and print them. Some in very handsome ways, es e.g. for tables. Here we use the `pandas` package."
   ]
  },
  {
   "cell_type": "code",
   "execution_count": 4,
   "id": "0cfa0906-956c-4ab4-a184-f3a488dd01b6",
   "metadata": {},
   "outputs": [
    {
     "data": {
      "text/html": [
       "<div>\n",
       "<style scoped>\n",
       "    .dataframe tbody tr th:only-of-type {\n",
       "        vertical-align: middle;\n",
       "    }\n",
       "\n",
       "    .dataframe tbody tr th {\n",
       "        vertical-align: top;\n",
       "    }\n",
       "\n",
       "    .dataframe thead th {\n",
       "        text-align: right;\n",
       "    }\n",
       "</style>\n",
       "<table border=\"1\" class=\"dataframe\">\n",
       "  <thead>\n",
       "    <tr style=\"text-align: right;\">\n",
       "      <th></th>\n",
       "      <th>id</th>\n",
       "      <th>filename</th>\n",
       "      <th>filesize</th>\n",
       "      <th>region</th>\n",
       "      <th>bin</th>\n",
       "      <th>total_length</th>\n",
       "      <th>contig_count</th>\n",
       "      <th>mean_gc</th>\n",
       "      <th>std_gc</th>\n",
       "      <th>median_length</th>\n",
       "      <th>max_length</th>\n",
       "      <th>min_length</th>\n",
       "    </tr>\n",
       "  </thead>\n",
       "  <tbody>\n",
       "    <tr>\n",
       "      <th>0</th>\n",
       "      <td>CHL_AON_Bin_133_1_c</td>\n",
       "      <td>/amazing_path/CHL_AON_Bin_133_1_c.fa</td>\n",
       "      <td>48666</td>\n",
       "      <td>AON</td>\n",
       "      <td>133:1</td>\n",
       "      <td>48316</td>\n",
       "      <td>10</td>\n",
       "      <td>0.321953</td>\n",
       "      <td>0.021150</td>\n",
       "      <td>5059.0</td>\n",
       "      <td>6722</td>\n",
       "      <td>2539</td>\n",
       "    </tr>\n",
       "    <tr>\n",
       "      <th>1</th>\n",
       "      <td>CHL_AON_Bin_133_3_1_c</td>\n",
       "      <td>/amazing_path/CHL_AON_Bin_133_3_1_c.fa</td>\n",
       "      <td>27645</td>\n",
       "      <td>AON</td>\n",
       "      <td>133:3:1</td>\n",
       "      <td>27386</td>\n",
       "      <td>7</td>\n",
       "      <td>0.328388</td>\n",
       "      <td>0.020005</td>\n",
       "      <td>3748.0</td>\n",
       "      <td>5710</td>\n",
       "      <td>2628</td>\n",
       "    </tr>\n",
       "    <tr>\n",
       "      <th>2</th>\n",
       "      <td>CHL_AON_Bin_135_1_c</td>\n",
       "      <td>/amazing_path/CHL_AON_Bin_135_1_c.fa</td>\n",
       "      <td>53195</td>\n",
       "      <td>AON</td>\n",
       "      <td>135:1</td>\n",
       "      <td>53020</td>\n",
       "      <td>5</td>\n",
       "      <td>0.379853</td>\n",
       "      <td>0.005520</td>\n",
       "      <td>10925.0</td>\n",
       "      <td>12630</td>\n",
       "      <td>7465</td>\n",
       "    </tr>\n",
       "    <tr>\n",
       "      <th>3</th>\n",
       "      <td>CHL_AON_Bin_135_4_c</td>\n",
       "      <td>/amazing_path/CHL_AON_Bin_135_4_c.fa</td>\n",
       "      <td>27195</td>\n",
       "      <td>AON</td>\n",
       "      <td>135:4</td>\n",
       "      <td>26950</td>\n",
       "      <td>7</td>\n",
       "      <td>0.319113</td>\n",
       "      <td>0.013441</td>\n",
       "      <td>3688.0</td>\n",
       "      <td>4840</td>\n",
       "      <td>2790</td>\n",
       "    </tr>\n",
       "    <tr>\n",
       "      <th>4</th>\n",
       "      <td>CHL_AON_Bin_136_10_c</td>\n",
       "      <td>/amazing_path/CHL_AON_Bin_136_10_c.fa</td>\n",
       "      <td>46894</td>\n",
       "      <td>AON</td>\n",
       "      <td>136:10</td>\n",
       "      <td>46426</td>\n",
       "      <td>13</td>\n",
       "      <td>0.315192</td>\n",
       "      <td>0.016718</td>\n",
       "      <td>2922.0</td>\n",
       "      <td>7070</td>\n",
       "      <td>2564</td>\n",
       "    </tr>\n",
       "  </tbody>\n",
       "</table>\n",
       "</div>"
      ],
      "text/plain": [
       "                      id                                filename  filesize  \\\n",
       "0    CHL_AON_Bin_133_1_c    /amazing_path/CHL_AON_Bin_133_1_c.fa     48666   \n",
       "1  CHL_AON_Bin_133_3_1_c  /amazing_path/CHL_AON_Bin_133_3_1_c.fa     27645   \n",
       "2    CHL_AON_Bin_135_1_c    /amazing_path/CHL_AON_Bin_135_1_c.fa     53195   \n",
       "3    CHL_AON_Bin_135_4_c    /amazing_path/CHL_AON_Bin_135_4_c.fa     27195   \n",
       "4   CHL_AON_Bin_136_10_c   /amazing_path/CHL_AON_Bin_136_10_c.fa     46894   \n",
       "\n",
       "  region      bin  total_length  contig_count   mean_gc    std_gc  \\\n",
       "0    AON    133:1         48316            10  0.321953  0.021150   \n",
       "1    AON  133:3:1         27386             7  0.328388  0.020005   \n",
       "2    AON    135:1         53020             5  0.379853  0.005520   \n",
       "3    AON    135:4         26950             7  0.319113  0.013441   \n",
       "4    AON   136:10         46426            13  0.315192  0.016718   \n",
       "\n",
       "   median_length  max_length  min_length  \n",
       "0         5059.0        6722        2539  \n",
       "1         3748.0        5710        2628  \n",
       "2        10925.0       12630        7465  \n",
       "3         3688.0        4840        2790  \n",
       "4         2922.0        7070        2564  "
      ]
     },
     "execution_count": 4,
     "metadata": {},
     "output_type": "execute_result"
    }
   ],
   "source": [
    "table_file = \"./data/table.csv\"\n",
    "table_df = pd.read_csv(table_file)\n",
    "\n",
    "table_df.head()"
   ]
  },
  {
   "cell_type": "markdown",
   "id": "3de8df18-cf63-458c-8dee-16b8440d3c1d",
   "metadata": {
    "tags": []
   },
   "source": [
    "#### 2 - Plot data"
   ]
  },
  {
   "cell_type": "markdown",
   "id": "c2a3e8c5-5d27-4db9-a62d-7f0f959adfcb",
   "metadata": {},
   "source": [
    "For non-interactive plotting most of the people use `matplotlib`, which is pretty great indeed. Still, we show you `seaborn` today, as an extension of the former, that implements a lot of nice statistical plots."
   ]
  },
  {
   "cell_type": "code",
   "execution_count": 10,
   "id": "754803c7-fed5-4060-b770-6414425eabb0",
   "metadata": {},
   "outputs": [],
   "source": [
    "# import the package for statistical plotting\n",
    "import seaborn as sns"
   ]
  },
  {
   "cell_type": "markdown",
   "id": "8c2468b1-eb17-4b83-9cfa-0878060416a6",
   "metadata": {},
   "source": [
    "As an example we visualize the total length of our genomes against the median length of their contigs. In addition the point size correlates with the GC content."
   ]
  },
  {
   "cell_type": "code",
   "execution_count": 24,
   "id": "a44876b6-0d48-46c8-9188-55f704c8b95f",
   "metadata": {},
   "outputs": [
    {
     "data": {
      "image/png": "[encoded data removed]",
      "text/plain": [
       "<Figure size 424.75x360 with 1 Axes>"
      ]
     },
     "metadata": {
      "needs_background": "light"
     },
     "output_type": "display_data"
    }
   ],
   "source": [
    "# make scatter plot\n",
    "splot = sns.relplot(x=\"total_length\", y=\"median_length\", size=\"mean_gc\", sizes=(40, 400), alpha=.5, height=5, data=table_df)"
   ]
  },
  {
   "cell_type": "markdown",
   "id": "66c58daf-56c7-47bc-8336-6bb97cdeef7e",
   "metadata": {},
   "source": [
    "Something similar, but with interactivity can be reached using [`bokeh`](https://docs.bokeh.org/en/latest/index.html) or [`plotly`](https://plotly.com/graphing-libraries/). We try the first one here."
   ]
  },
  {
   "cell_type": "code",
   "execution_count": 31,
   "id": "c32c1bd3-2710-43cd-94d3-1a183d1143d5",
   "metadata": {},
   "outputs": [
    {
     "data": {
      "text/html": [
       "\n",
       "    <div class=\"bk-root\">\n",
       "        <a href=\"https://bokeh.org\" target=\"_blank\" class=\"bk-logo bk-logo-small bk-logo-notebook\"></a>\n",
       "        <span id=\"1414\">Loading BokehJS ...</span>\n",
       "    </div>"
      ]
     },
     "metadata": {},
     "output_type": "display_data"
    },
    {
     "data": {
      "application/javascript": [
       "\n",
       "(function(root) {\n",
       "  function now() {\n",
       "    return new Date();\n",
       "  }\n",
       "\n",
       "  const force = true;\n",
       "\n",
       "  if (typeof root._bokeh_onload_callbacks === \"undefined\" || force === true) {\n",
       "    root._bokeh_onload_callbacks = [];\n",
       "    root._bokeh_is_loading = undefined;\n",
       "  }\n",
       "\n",
       "  const JS_MIME_TYPE = 'application/javascript';\n",
       "  const HTML_MIME_TYPE = 'text/html';\n",
       "  const EXEC_MIME_TYPE = 'application/vnd.bokehjs_exec.v0+json';\n",
       "  const CLASS_NAME = 'output_bokeh rendered_html';\n",
       "\n",
       "  /**\n",
       "   * Render data to the DOM node\n",
       "   */\n",
       "  function render(props, node) {\n",
       "    const script = document.createElement(\"script\");\n",
       "    node.appendChild(script);\n",
       "  }\n",
       "\n",
       "  /**\n",
       "   * Handle when an output is cleared or removed\n",
       "   */\n",
       "  function handleClearOutput(event, handle) {\n",
       "    const cell = handle.cell;\n",
       "\n",
       "    const id = cell.output_area._bokeh_element_id;\n",
       "    const server_id = cell.output_area._bokeh_server_id;\n",
       "    // Clean up Bokeh references\n",
       "    if (id != null && id in Bokeh.index) {\n",
       "      Bokeh.index[id].model.document.clear();\n",
       "      delete Bokeh.index[id];\n",
       "    }\n",
       "\n",
       "    if (server_id !== undefined) {\n",
       "      // Clean up Bokeh references\n",
       "      const cmd_clean = \"from bokeh.io.state import curstate; print(curstate().uuid_to_server['\" + server_id + \"'].get_sessions()[0].document.roots[0]._id)\";\n",
       "      cell.notebook.kernel.execute(cmd_clean, {\n",
       "        iopub: {\n",
       "          output: function(msg) {\n",
       "            const id = msg.content.text.trim();\n",
       "            if (id in Bokeh.index) {\n",
       "              Bokeh.index[id].model.document.clear();\n",
       "              delete Bokeh.index[id];\n",
       "            }\n",
       "          }\n",
       "        }\n",
       "      });\n",
       "      // Destroy server and session\n",
       "      const cmd_destroy = \"import bokeh.io.notebook as ion; ion.destroy_server('\" + server_id + \"')\";\n",
       "      cell.notebook.kernel.execute(cmd_destroy);\n",
       "    }\n",
       "  }\n",
       "\n",
       "  /**\n",
       "   * Handle when a new output is added\n",
       "   */\n",
       "  function handleAddOutput(event, handle) {\n",
       "    const output_area = handle.output_area;\n",
       "    const output = handle.output;\n",
       "\n",
       "    // limit handleAddOutput to display_data with EXEC_MIME_TYPE content only\n",
       "    if ((output.output_type != \"display_data\") || (!Object.prototype.hasOwnProperty.call(output.data, EXEC_MIME_TYPE))) {\n",
       "      return\n",
       "    }\n",
       "\n",
       "    const toinsert = output_area.element.find(\".\" + CLASS_NAME.split(' ')[0]);\n",
       "\n",
       "    if (output.metadata[EXEC_MIME_TYPE][\"id\"] !== undefined) {\n",
       "      toinsert[toinsert.length - 1].firstChild.textContent = output.data[JS_MIME_TYPE];\n",
       "      // store reference to embed id on output_area\n",
       "      output_area._bokeh_element_id = output.metadata[EXEC_MIME_TYPE][\"id\"];\n",
       "    }\n",
       "    if (output.metadata[EXEC_MIME_TYPE][\"server_id\"] !== undefined) {\n",
       "      const bk_div = document.createElement(\"div\");\n",
       "      bk_div.innerHTML = output.data[HTML_MIME_TYPE];\n",
       "      const script_attrs = bk_div.children[0].attributes;\n",
       "      for (let i = 0; i < script_attrs.length; i++) {\n",
       "        toinsert[toinsert.length - 1].firstChild.setAttribute(script_attrs[i].name, script_attrs[i].value);\n",
       "        toinsert[toinsert.length - 1].firstChild.textContent = bk_div.children[0].textContent\n",
       "      }\n",
       "      // store reference to server id on output_area\n",
       "      output_area._bokeh_server_id = output.metadata[EXEC_MIME_TYPE][\"server_id\"];\n",
       "    }\n",
       "  }\n",
       "\n",
       "  function register_renderer(events, OutputArea) {\n",
       "\n",
       "    function append_mime(data, metadata, element) {\n",
       "      // create a DOM node to render to\n",
       "      const toinsert = this.create_output_subarea(\n",
       "        metadata,\n",
       "        CLASS_NAME,\n",
       "        EXEC_MIME_TYPE\n",
       "      );\n",
       "      this.keyboard_manager.register_events(toinsert);\n",
       "      // Render to node\n",
       "      const props = {data: data, metadata: metadata[EXEC_MIME_TYPE]};\n",
       "      render(props, toinsert[toinsert.length - 1]);\n",
       "      element.append(toinsert);\n",
       "      return toinsert\n",
       "    }\n",
       "\n",
       "    /* Handle when an output is cleared or removed */\n",
       "    events.on('clear_output.CodeCell', handleClearOutput);\n",
       "    events.on('delete.Cell', handleClearOutput);\n",
       "\n",
       "    /* Handle when a new output is added */\n",
       "    events.on('output_added.OutputArea', handleAddOutput);\n",
       "\n",
       "    /**\n",
       "     * Register the mime type and append_mime function with output_area\n",
       "     */\n",
       "    OutputArea.prototype.register_mime_type(EXEC_MIME_TYPE, append_mime, {\n",
       "      /* Is output safe? */\n",
       "      safe: true,\n",
       "      /* Index of renderer in `output_area.display_order` */\n",
       "      index: 0\n",
       "    });\n",
       "  }\n",
       "\n",
       "  // register the mime type if in Jupyter Notebook environment and previously unregistered\n",
       "  if (root.Jupyter !== undefined) {\n",
       "    const events = require('base/js/events');\n",
       "    const OutputArea = require('notebook/js/outputarea').OutputArea;\n",
       "\n",
       "    if (OutputArea.prototype.mime_types().indexOf(EXEC_MIME_TYPE) == -1) {\n",
       "      register_renderer(events, OutputArea);\n",
       "    }\n",
       "  }\n",
       "\n",
       "  \n",
       "  if (typeof (root._bokeh_timeout) === \"undefined\" || force === true) {\n",
       "    root._bokeh_timeout = Date.now() + 5000;\n",
       "    root._bokeh_failed_load = false;\n",
       "  }\n",
       "\n",
       "  const NB_LOAD_WARNING = {'data': {'text/html':\n",
       "     \"<div style='background-color: #fdd'>\\n\"+\n",
       "     \"<p>\\n\"+\n",
       "     \"BokehJS does not appear to have successfully loaded. If loading BokehJS from CDN, this \\n\"+\n",
       "     \"may be due to a slow or bad network connection. Possible fixes:\\n\"+\n",
       "     \"</p>\\n\"+\n",
       "     \"<ul>\\n\"+\n",
       "     \"<li>re-rerun `output_notebook()` to attempt to load from CDN again, or</li>\\n\"+\n",
       "     \"<li>use INLINE resources instead, as so:</li>\\n\"+\n",
       "     \"</ul>\\n\"+\n",
       "     \"<code>\\n\"+\n",
       "     \"from bokeh.resources import INLINE\\n\"+\n",
       "     \"output_notebook(resources=INLINE)\\n\"+\n",
       "     \"</code>\\n\"+\n",
       "     \"</div>\"}};\n",
       "\n",
       "  function display_loaded() {\n",
       "    const el = document.getElementById(\"1414\");\n",
       "    if (el != null) {\n",
       "      el.textContent = \"BokehJS is loading...\";\n",
       "    }\n",
       "    if (root.Bokeh !== undefined) {\n",
       "      if (el != null) {\n",
       "        el.textContent = \"BokehJS \" + root.Bokeh.version + \" successfully loaded.\";\n",
       "      }\n",
       "    } else if (Date.now() < root._bokeh_timeout) {\n",
       "      setTimeout(display_loaded, 100)\n",
       "    }\n",
       "  }\n",
       "\n",
       "\n",
       "  function run_callbacks() {\n",
       "    try {\n",
       "      root._bokeh_onload_callbacks.forEach(function(callback) {\n",
       "        if (callback != null)\n",
       "          callback();\n",
       "      });\n",
       "    } finally {\n",
       "      delete root._bokeh_onload_callbacks\n",
       "    }\n",
       "    console.debug(\"Bokeh: all callbacks have finished\");\n",
       "  }\n",
       "\n",
       "  function load_libs(css_urls, js_urls, callback) {\n",
       "    if (css_urls == null) css_urls = [];\n",
       "    if (js_urls == null) js_urls = [];\n",
       "\n",
       "    root._bokeh_onload_callbacks.push(callback);\n",
       "    if (root._bokeh_is_loading > 0) {\n",
       "      console.debug(\"Bokeh: BokehJS is being loaded, scheduling callback at\", now());\n",
       "      return null;\n",
       "    }\n",
       "    if (js_urls == null || js_urls.length === 0) {\n",
       "      run_callbacks();\n",
       "      return null;\n",
       "    }\n",
       "    console.debug(\"Bokeh: BokehJS not loaded, scheduling load and callback at\", now());\n",
       "    root._bokeh_is_loading = css_urls.length + js_urls.length;\n",
       "\n",
       "    function on_load() {\n",
       "      root._bokeh_is_loading--;\n",
       "      if (root._bokeh_is_loading === 0) {\n",
       "        console.debug(\"Bokeh: all BokehJS libraries/stylesheets loaded\");\n",
       "        run_callbacks()\n",
       "      }\n",
       "    }\n",
       "\n",
       "    function on_error(url) {\n",
       "      console.error(\"failed to load \" + url);\n",
       "    }\n",
       "\n",
       "    for (let i = 0; i < css_urls.length; i++) {\n",
       "      const url = css_urls[i];\n",
       "      const element = document.createElement(\"link\");\n",
       "      element.onload = on_load;\n",
       "      element.onerror = on_error.bind(null, url);\n",
       "      element.rel = \"stylesheet\";\n",
       "      element.type = \"text/css\";\n",
       "      element.href = url;\n",
       "      console.debug(\"Bokeh: injecting link tag for BokehJS stylesheet: \", url);\n",
       "      document.body.appendChild(element);\n",
       "    }\n",
       "\n",
       "    for (let i = 0; i < js_urls.length; i++) {\n",
       "      const url = js_urls[i];\n",
       "      const element = document.createElement('script');\n",
       "      element.onload = on_load;\n",
       "      element.onerror = on_error.bind(null, url);\n",
       "      element.async = false;\n",
       "      element.src = url;\n",
       "      console.debug(\"Bokeh: injecting script tag for BokehJS library: \", url);\n",
       "      document.head.appendChild(element);\n",
       "    }\n",
       "  };\n",
       "\n",
       "  function inject_raw_css(css) {\n",
       "    const element = document.createElement(\"style\");\n",
       "    element.appendChild(document.createTextNode(css));\n",
       "    document.body.appendChild(element);\n",
       "  }\n",
       "\n",
       "  \n",
       "  const js_urls = [\"https://cdn.bokeh.org/bokeh/release/bokeh-2.4.0.min.js\", \"https://cdn.bokeh.org/bokeh/release/bokeh-gl-2.4.0.min.js\", \"https://cdn.bokeh.org/bokeh/release/bokeh-widgets-2.4.0.min.js\", \"https://cdn.bokeh.org/bokeh/release/bokeh-tables-2.4.0.min.js\", \"https://cdn.bokeh.org/bokeh/release/bokeh-mathjax-2.4.0.min.js\"];\n",
       "  const css_urls = [];\n",
       "  \n",
       "\n",
       "  const inline_js = [\n",
       "    function(Bokeh) {\n",
       "      Bokeh.set_log_level(\"info\");\n",
       "    },\n",
       "    function(Bokeh) {\n",
       "    \n",
       "    \n",
       "    }\n",
       "  ];\n",
       "\n",
       "  function run_inline_js() {\n",
       "    \n",
       "    if (root.Bokeh !== undefined || force === true) {\n",
       "      \n",
       "    for (let i = 0; i < inline_js.length; i++) {\n",
       "      inline_js[i].call(root, root.Bokeh);\n",
       "    }\n",
       "    if (force === true) {\n",
       "        display_loaded();\n",
       "      }} else if (Date.now() < root._bokeh_timeout) {\n",
       "      setTimeout(run_inline_js, 100);\n",
       "    } else if (!root._bokeh_failed_load) {\n",
       "      console.log(\"Bokeh: BokehJS failed to load within specified timeout.\");\n",
       "      root._bokeh_failed_load = true;\n",
       "    } else if (force !== true) {\n",
       "      const cell = $(document.getElementById(\"1414\")).parents('.cell').data().cell;\n",
       "      cell.output_area.append_execute_result(NB_LOAD_WARNING)\n",
       "    }\n",
       "\n",
       "  }\n",
       "\n",
       "  if (root._bokeh_is_loading === 0) {\n",
       "    console.debug(\"Bokeh: BokehJS loaded, going straight to plotting\");\n",
       "    run_inline_js();\n",
       "  } else {\n",
       "    load_libs(css_urls, js_urls, function() {\n",
       "      console.debug(\"Bokeh: BokehJS plotting callback run at\", now());\n",
       "      run_inline_js();\n",
       "    });\n",
       "  }\n",
       "}(window));"
      ],
      "application/vnd.bokehjs_load.v0+json": "\n(function(root) {\n  function now() {\n    return new Date();\n  }\n\n  const force = true;\n\n  if (typeof root._bokeh_onload_callbacks === \"undefined\" || force === true) {\n    root._bokeh_onload_callbacks = [];\n    root._bokeh_is_loading = undefined;\n  }\n\n  \n\n  \n  if (typeof (root._bokeh_timeout) === \"undefined\" || force === true) {\n    root._bokeh_timeout = Date.now() + 5000;\n    root._bokeh_failed_load = false;\n  }\n\n  const NB_LOAD_WARNING = {'data': {'text/html':\n     \"<div style='background-color: #fdd'>\\n\"+\n     \"<p>\\n\"+\n     \"BokehJS does not appear to have successfully loaded. If loading BokehJS from CDN, this \\n\"+\n     \"may be due to a slow or bad network connection. Possible fixes:\\n\"+\n     \"</p>\\n\"+\n     \"<ul>\\n\"+\n     \"<li>re-rerun `output_notebook()` to attempt to load from CDN again, or</li>\\n\"+\n     \"<li>use INLINE resources instead, as so:</li>\\n\"+\n     \"</ul>\\n\"+\n     \"<code>\\n\"+\n     \"from bokeh.resources import INLINE\\n\"+\n     \"output_notebook(resources=INLINE)\\n\"+\n     \"</code>\\n\"+\n     \"</div>\"}};\n\n  function display_loaded() {\n    const el = document.getElementById(\"1414\");\n    if (el != null) {\n      el.textContent = \"BokehJS is loading...\";\n    }\n    if (root.Bokeh !== undefined) {\n      if (el != null) {\n        el.textContent = \"BokehJS \" + root.Bokeh.version + \" successfully loaded.\";\n      }\n    } else if (Date.now() < root._bokeh_timeout) {\n      setTimeout(display_loaded, 100)\n    }\n  }\n\n\n  function run_callbacks() {\n    try {\n      root._bokeh_onload_callbacks.forEach(function(callback) {\n        if (callback != null)\n          callback();\n      });\n    } finally {\n      delete root._bokeh_onload_callbacks\n    }\n    console.debug(\"Bokeh: all callbacks have finished\");\n  }\n\n  function load_libs(css_urls, js_urls, callback) {\n    if (css_urls == null) css_urls = [];\n    if (js_urls == null) js_urls = [];\n\n    root._bokeh_onload_callbacks.push(callback);\n    if (root._bokeh_is_loading > 0) {\n      console.debug(\"Bokeh: BokehJS is being loaded, scheduling callback at\", now());\n      return null;\n    }\n    if (js_urls == null || js_urls.length === 0) {\n      run_callbacks();\n      return null;\n    }\n    console.debug(\"Bokeh: BokehJS not loaded, scheduling load and callback at\", now());\n    root._bokeh_is_loading = css_urls.length + js_urls.length;\n\n    function on_load() {\n      root._bokeh_is_loading--;\n      if (root._bokeh_is_loading === 0) {\n        console.debug(\"Bokeh: all BokehJS libraries/stylesheets loaded\");\n        run_callbacks()\n      }\n    }\n\n    function on_error(url) {\n      console.error(\"failed to load \" + url);\n    }\n\n    for (let i = 0; i < css_urls.length; i++) {\n      const url = css_urls[i];\n      const element = document.createElement(\"link\");\n      element.onload = on_load;\n      element.onerror = on_error.bind(null, url);\n      element.rel = \"stylesheet\";\n      element.type = \"text/css\";\n      element.href = url;\n      console.debug(\"Bokeh: injecting link tag for BokehJS stylesheet: \", url);\n      document.body.appendChild(element);\n    }\n\n    for (let i = 0; i < js_urls.length; i++) {\n      const url = js_urls[i];\n      const element = document.createElement('script');\n      element.onload = on_load;\n      element.onerror = on_error.bind(null, url);\n      element.async = false;\n      element.src = url;\n      console.debug(\"Bokeh: injecting script tag for BokehJS library: \", url);\n      document.head.appendChild(element);\n    }\n  };\n\n  function inject_raw_css(css) {\n    const element = document.createElement(\"style\");\n    element.appendChild(document.createTextNode(css));\n    document.body.appendChild(element);\n  }\n\n  \n  const js_urls = [\"https://cdn.bokeh.org/bokeh/release/bokeh-2.4.0.min.js\", \"https://cdn.bokeh.org/bokeh/release/bokeh-gl-2.4.0.min.js\", \"https://cdn.bokeh.org/bokeh/release/bokeh-widgets-2.4.0.min.js\", \"https://cdn.bokeh.org/bokeh/release/bokeh-tables-2.4.0.min.js\", \"https://cdn.bokeh.org/bokeh/release/bokeh-mathjax-2.4.0.min.js\"];\n  const css_urls = [];\n  \n\n  const inline_js = [\n    function(Bokeh) {\n      Bokeh.set_log_level(\"info\");\n    },\n    function(Bokeh) {\n    \n    \n    }\n  ];\n\n  function run_inline_js() {\n    \n    if (root.Bokeh !== undefined || force === true) {\n      \n    for (let i = 0; i < inline_js.length; i++) {\n      inline_js[i].call(root, root.Bokeh);\n    }\n    if (force === true) {\n        display_loaded();\n      }} else if (Date.now() < root._bokeh_timeout) {\n      setTimeout(run_inline_js, 100);\n    } else if (!root._bokeh_failed_load) {\n      console.log(\"Bokeh: BokehJS failed to load within specified timeout.\");\n      root._bokeh_failed_load = true;\n    } else if (force !== true) {\n      const cell = $(document.getElementById(\"1414\")).parents('.cell').data().cell;\n      cell.output_area.append_execute_result(NB_LOAD_WARNING)\n    }\n\n  }\n\n  if (root._bokeh_is_loading === 0) {\n    console.debug(\"Bokeh: BokehJS loaded, going straight to plotting\");\n    run_inline_js();\n  } else {\n    load_libs(css_urls, js_urls, function() {\n      console.debug(\"Bokeh: BokehJS plotting callback run at\", now());\n      run_inline_js();\n    });\n  }\n}(window));"
     },
     "metadata": {},
     "output_type": "display_data"
    }
   ],
   "source": [
    "# import and run the jupyter notebook extension for bokeh. No plot if not loaded!\n",
    "from bokeh.io import output_notebook\n",
    "output_notebook()"
   ]
  },
  {
   "cell_type": "code",
   "execution_count": 50,
   "id": "2c72acb1-5db2-43d7-a52b-b515c5c5a3f5",
   "metadata": {},
   "outputs": [],
   "source": [
    "# importing importnat classes/functions for plotting\n",
    "from bokeh.plotting import figure, show\n",
    "from bokeh.models import ColumnDataSource, HoverTool"
   ]
  },
  {
   "cell_type": "code",
   "execution_count": 54,
   "id": "b0611735-fb7c-4a91-8961-fa90fc56fabe",
   "metadata": {},
   "outputs": [
    {
     "data": {
      "text/html": [
       "\n",
       "\n",
       "\n",
       "\n",
       "\n",
       "\n",
       "  <div class=\"bk-root\" id=\"fef4ce7a-342a-4138-88d2-0d26c57ad359\" data-root-id=\"4075\"></div>\n"
      ]
     },
     "metadata": {},
     "output_type": "display_data"
    },
    {
     "data": {
      "application/javascript": [
       "(function(root) {\n",
       "  function embed_document(root) {\n",
       "    \n",
       "  const docs_json = {\"cf65a26e-2d07-431c-8c2a-4c3b73ed1ae5\":{\"defs\":[],\"roots\":{\"references\":[{\"attributes\":{\"below\":[{\"id\":\"4086\"}],\"center\":[{\"id\":\"4089\"},{\"id\":\"4093\"}],\"left\":[{\"id\":\"4090\"}],\"renderers\":[{\"id\":\"4109\"}],\"title\":{\"id\":\"4076\"},\"toolbar\":{\"id\":\"4099\"},\"x_range\":{\"id\":\"4078\"},\"x_scale\":{\"id\":\"4082\"},\"y_range\":{\"id\":\"4080\"},\"y_scale\":{\"id\":\"4084\"}},\"id\":\"4075\",\"subtype\":\"Figure\",\"type\":\"Plot\"},{\"attributes\":{},\"id\":\"4087\",\"type\":\"BasicTicker\"},{\"attributes\":{},\"id\":\"4270\",\"type\":\"Selection\"},{\"attributes\":{},\"id\":\"4080\",\"type\":\"DataRange1d\"},{\"attributes\":{\"overlay\":{\"id\":\"4098\"}},\"id\":\"4095\",\"type\":\"BoxZoomTool\"},{\"attributes\":{\"axis\":{\"id\":\"4090\"},\"coordinates\":null,\"dimension\":1,\"group\":null,\"ticker\":null},\"id\":\"4093\",\"type\":\"Grid\"},{\"attributes\":{\"fill_color\":{\"value\":\"#1f77b4\"},\"line_color\":{\"value\":\"#1f77b4\"},\"size\":{\"field\":\"gc_percent\"},\"x\":{\"field\":\"total_length\"},\"y\":{\"field\":\"median_length\"}},\"id\":\"4106\",\"type\":\"Circle\"},{\"attributes\":{},\"id\":\"4082\",\"type\":\"LinearScale\"},{\"attributes\":{\"coordinates\":null,\"formatter\":{\"id\":\"4264\"},\"group\":null,\"major_label_policy\":{\"id\":\"4265\"},\"ticker\":{\"id\":\"4091\"}},\"id\":\"4090\",\"type\":\"LinearAxis\"},{\"attributes\":{\"callback\":null,\"tooltips\":[[\"name\",\"@id\"],[\"region\",\"@region\"],[\"GC (mean/sd)\",\"@mean_gc / @std_gc\"],[\"Contig-lengths\",\"@min_length - @max_length bp (median: @median_length)\"],[\"\",\"\"],[\"Total length\",\"@total_length bp\"],[\"Number of contigs\",\"@contig_count\"],[\"THIS IS\",\"TOO COOL\"]]},\"id\":\"4104\",\"type\":\"HoverTool\"},{\"attributes\":{\"source\":{\"id\":\"4074\"}},\"id\":\"4110\",\"type\":\"CDSView\"},{\"attributes\":{},\"id\":\"4268\",\"type\":\"AllLabels\"},{\"attributes\":{\"data\":{\"bin\":[\"133:1\",\"133:3:1\",\"135:1\",\"135:4\",\"136:10\",\"136:2:2\",\"136:3\",\"136:4\",\"136:5\"],\"contig_count\":[10,7,5,7,13,7,13,21,10],\"filename\":[\"/amazing_path/CHL_AON_Bin_133_1_c.fa\",\"/amazing_path/CHL_AON_Bin_133_3_1_c.fa\",\"/amazing_path/CHL_AON_Bin_135_1_c.fa\",\"/amazing_path/CHL_AON_Bin_135_4_c.fa\",\"/amazing_path/CHL_AON_Bin_136_10_c.fa\",\"/amazing_path/CHL_AON_Bin_136_2_2_c.fa\",\"/amazing_path/CHL_AON_Bin_136_3_c.fa\",\"/amazing_path/CHL_AON_Bin_136_4_c.fa\",\"/amazing_path/CHL_AON_Bin_136_5_c.fa\"],\"filesize\":[48666,27645,53195,27195,46894,35736,57519,64712,101402],\"gc_percent\":{\"__ndarray__\":\"NBbvgf8YQEAwZ2phXGtAQGLhm+Id/kJADKYCfkjpP0CSkBrs6YQ/QGm2bRfYpkBACRMbFjAJQUBUoVhZ8L5AQDqTzJQYG0FA\",\"dtype\":\"float64\",\"order\":\"little\",\"shape\":[9]},\"id\":[\"CHL_AON_Bin_133_1_c\",\"CHL_AON_Bin_133_3_1_c\",\"CHL_AON_Bin_135_1_c\",\"CHL_AON_Bin_135_4_c\",\"CHL_AON_Bin_136_10_c\",\"CHL_AON_Bin_136_2_2_c\",\"CHL_AON_Bin_136_3_c\",\"CHL_AON_Bin_136_4_c\",\"CHL_AON_Bin_136_5_c\"],\"index\":[0,1,2,3,4,5,6,7,8],\"max_length\":[6722,5710,12630,4840,7070,8693,7435,5095,14677],\"mean_gc\":{\"__ndarray__\":\"QsBQpuCa1D+49H1JTQTVP3NJvWmCT9g/ofniWlds1D+l4YvUGizUP68c1MFwUNU/NbzQB1LO1T9XcnEgSG/VPw1WGi8+5dU/\",\"dtype\":\"float64\",\"order\":\"little\",\"shape\":[9]},\"median_length\":{\"__ndarray__\":\"AAAAAADDs0AAAAAAAEitQAAAAACAVsVAAAAAAADQrEAAAAAAANSmQAAAAAAAcbNAAAAAAABOrkAAAAAAALKlQAAAAADAx8JA\",\"dtype\":\"float64\",\"order\":\"little\",\"shape\":[9]},\"min_length\":[2539,2628,7465,2790,2564,2861,2595,2537,6203],\"region\":[\"AON\",\"AON\",\"AON\",\"AON\",\"AON\",\"AON\",\"AON\",\"AON\",\"AON\"],\"std_gc\":{\"__ndarray__\":\"UJm1KjuolT9Eu/bFSXyUP9Pf5Mw0nHY/AG1kNf2Giz8l4UQMnB6RPxXj+9CvWZM/dc6FHizLkz/6seBAJbqjPyeuwA+9cY4/\",\"dtype\":\"float64\",\"order\":\"little\",\"shape\":[9]},\"total_length\":[48316,27386,53020,26950,46426,35477,57064,63977,101052]},\"selected\":{\"id\":\"4270\"},\"selection_policy\":{\"id\":\"4269\"}},\"id\":\"4074\",\"type\":\"ColumnDataSource\"},{\"attributes\":{},\"id\":\"4084\",\"type\":\"LinearScale\"},{\"attributes\":{\"coordinates\":null,\"group\":null,\"text\":\"Interactive genome scatterplot\"},\"id\":\"4076\",\"type\":\"Title\"},{\"attributes\":{\"fill_alpha\":{\"value\":0.2},\"fill_color\":{\"value\":\"#1f77b4\"},\"hatch_alpha\":{\"value\":0.2},\"line_alpha\":{\"value\":0.2},\"line_color\":{\"value\":\"#1f77b4\"},\"size\":{\"field\":\"gc_percent\"},\"x\":{\"field\":\"total_length\"},\"y\":{\"field\":\"median_length\"}},\"id\":\"4108\",\"type\":\"Circle\"},{\"attributes\":{},\"id\":\"4264\",\"type\":\"BasicTickFormatter\"},{\"attributes\":{},\"id\":\"4078\",\"type\":\"DataRange1d\"},{\"attributes\":{},\"id\":\"4094\",\"type\":\"PanTool\"},{\"attributes\":{\"bottom_units\":\"screen\",\"coordinates\":null,\"fill_alpha\":0.5,\"fill_color\":\"lightgrey\",\"group\":null,\"left_units\":\"screen\",\"level\":\"overlay\",\"line_alpha\":1.0,\"line_color\":\"black\",\"line_dash\":[4,4],\"line_width\":2,\"right_units\":\"screen\",\"syncable\":false,\"top_units\":\"screen\"},\"id\":\"4098\",\"type\":\"BoxAnnotation\"},{\"attributes\":{\"fill_alpha\":{\"value\":0.1},\"fill_color\":{\"value\":\"#1f77b4\"},\"hatch_alpha\":{\"value\":0.1},\"line_alpha\":{\"value\":0.1},\"line_color\":{\"value\":\"#1f77b4\"},\"size\":{\"field\":\"gc_percent\"},\"x\":{\"field\":\"total_length\"},\"y\":{\"field\":\"median_length\"}},\"id\":\"4107\",\"type\":\"Circle\"},{\"attributes\":{\"tools\":[{\"id\":\"4094\"},{\"id\":\"4095\"},{\"id\":\"4096\"},{\"id\":\"4097\"},{\"id\":\"4104\"}]},\"id\":\"4099\",\"type\":\"Toolbar\"},{\"attributes\":{},\"id\":\"4267\",\"type\":\"BasicTickFormatter\"},{\"attributes\":{},\"id\":\"4269\",\"type\":\"UnionRenderers\"},{\"attributes\":{},\"id\":\"4265\",\"type\":\"AllLabels\"},{\"attributes\":{\"axis\":{\"id\":\"4086\"},\"coordinates\":null,\"group\":null,\"ticker\":null},\"id\":\"4089\",\"type\":\"Grid\"},{\"attributes\":{},\"id\":\"4097\",\"type\":\"HelpTool\"},{\"attributes\":{\"coordinates\":null,\"data_source\":{\"id\":\"4074\"},\"glyph\":{\"id\":\"4106\"},\"group\":null,\"hover_glyph\":null,\"muted_glyph\":{\"id\":\"4108\"},\"nonselection_glyph\":{\"id\":\"4107\"},\"view\":{\"id\":\"4110\"}},\"id\":\"4109\",\"type\":\"GlyphRenderer\"},{\"attributes\":{},\"id\":\"4091\",\"type\":\"BasicTicker\"},{\"attributes\":{},\"id\":\"4096\",\"type\":\"SaveTool\"},{\"attributes\":{\"coordinates\":null,\"formatter\":{\"id\":\"4267\"},\"group\":null,\"major_label_policy\":{\"id\":\"4268\"},\"ticker\":{\"id\":\"4087\"}},\"id\":\"4086\",\"type\":\"LinearAxis\"}],\"root_ids\":[\"4075\"]},\"title\":\"Bokeh Application\",\"version\":\"2.4.0\"}};\n",
       "  const render_items = [{\"docid\":\"cf65a26e-2d07-431c-8c2a-4c3b73ed1ae5\",\"root_ids\":[\"4075\"],\"roots\":{\"4075\":\"fef4ce7a-342a-4138-88d2-0d26c57ad359\"}}];\n",
       "  root.Bokeh.embed.embed_items_notebook(docs_json, render_items);\n",
       "\n",
       "  }\n",
       "  if (root.Bokeh !== undefined) {\n",
       "    embed_document(root);\n",
       "  } else {\n",
       "    let attempts = 0;\n",
       "    const timer = setInterval(function(root) {\n",
       "      if (root.Bokeh !== undefined) {\n",
       "        clearInterval(timer);\n",
       "        embed_document(root);\n",
       "      } else {\n",
       "        attempts++;\n",
       "        if (attempts > 100) {\n",
       "          clearInterval(timer);\n",
       "          console.log(\"Bokeh: ERROR: Unable to run BokehJS code because BokehJS library is missing\");\n",
       "        }\n",
       "      }\n",
       "    }, 10, root)\n",
       "  }\n",
       "})(window);"
      ],
      "application/vnd.bokehjs_exec.v0+json": ""
     },
     "metadata": {
      "application/vnd.bokehjs_exec.v0+json": {
       "id": "4075"
      }
     },
     "output_type": "display_data"
    }
   ],
   "source": [
    "# prepare some data\n",
    "table_df[\"gc_percent\"] = table_df[\"mean_gc\"]*100\n",
    "source = ColumnDataSource(data=table_df)\n",
    "\n",
    "# create a new plot with some interactivity tools\n",
    "bplot = figure(\n",
    "    title=\"Interactive genome scatterplot\",\n",
    "    tools=\"pan,box_zoom,save,help\"\n",
    ")\n",
    "#define tooltips for hovering\n",
    "TOOLTIPS = [('name', '@id'),\n",
    "            ('region', '@region'),\n",
    "            ('GC (mean/sd)', '@mean_gc / @std_gc'),\n",
    "            ('Contig-lengths', '@min_length - @max_length bp (median: @median_length)'),\n",
    "            ('', ''),\n",
    "            ('Total length', '@total_length bp'),\n",
    "            ('Number of contigs', '@contig_count'),\n",
    "            ('THIS IS', 'TOO COOL')]\n",
    "hover_tool = HoverTool(tooltips=TOOLTIPS)\n",
    "\n",
    "# add scatterplot and hover tool for it\n",
    "circle = bplot.circle(x=\"total_length\", y=\"median_length\", size=\"gc_percent\", source=source)\n",
    "bplot.add_tools(hover_tool)\n",
    "\n",
    "# show the results\n",
    "show(bplot)"
   ]
  },
  {
   "cell_type": "markdown",
   "id": "f6ff80d4-c1bb-417b-88f1-9dbd038bc026",
   "metadata": {},
   "source": [
    "#### 3 - Run some analyses"
   ]
  },
  {
   "cell_type": "code",
   "execution_count": 2,
   "id": "e2244c7a-582a-4903-977a-0d8ba1b159ae",
   "metadata": {},
   "outputs": [],
   "source": [
    "from utils_blast import BufferedGenomeLoader"
   ]
  },
  {
   "cell_type": "code",
   "execution_count": 9,
   "id": "186a837c-bfc6-486e-b757-6bbb2349a322",
   "metadata": {},
   "outputs": [],
   "source": [
    "def import_accessions(accession_file):\n",
    "    '''Load a list if accessions that are stored seperated by rows.'''\n",
    "    with open(accession_file, \"r\") as fl:\n",
    "        return [acc.strip() for acc in fl.readlines()]"
   ]
  },
  {
   "cell_type": "code",
   "execution_count": 20,
   "id": "dc3af974-fe6f-42f6-9cb7-94fc8ac842dc",
   "metadata": {},
   "outputs": [],
   "source": [
    "# you can store accessions to download in a file\n",
    "FILE_WITH_ACCESSIONS = \"./playground/input/accessions.txt\"\n",
    "\n",
    "# the output directory should be here\n",
    "OUTPUT_DIR = \"./playground/output/sequences\"\n",
    "TRACKING_CSV = \"./playground/output/sequences/ncbi_download_meta_info.csv\""
   ]
  },
  {
   "cell_type": "code",
   "execution_count": 17,
   "id": "4eefe00d-f7b2-48fa-98dc-924d09d36e08",
   "metadata": {},
   "outputs": [
    {
     "name": "stdout",
     "output_type": "stream",
     "text": [
      "These are the accessions: ['MW424641', 'MW424636'].\n"
     ]
    }
   ],
   "source": [
    "# then we load the accessions into working space\n",
    "accession_list = import_accessions(FILE_WITH_ACCESSIONS)\n",
    "print(\"These are the accessions: \", accession_list, \".\", sep=\"\")"
   ]
  },
  {
   "cell_type": "code",
   "execution_count": 21,
   "id": "b5c0d94b-924d-4c70-b5dc-f5ed36ac450f",
   "metadata": {},
   "outputs": [],
   "source": [
    "sequence_loader = BufferedGenomeLoader(TRACKING_CSV)"
   ]
  },
  {
   "cell_type": "code",
   "execution_count": 22,
   "id": "4b4c9bfb-952c-45bf-840b-c446cdc6b4c1",
   "metadata": {},
   "outputs": [],
   "source": [
    "# now we download the sequences\n",
    "# first we perform simple preload\n",
    "for sacc in accession_list:\n",
    "    s_filepath = os.path.join(OUTPUT_DIR, f\"{sacc}.gb\")\n",
    "    sequence_loader.preload_genome(sacc, s_filepath)\n",
    "\n",
    "# then we get all down - as gb or fasta - from nuccore or protein\n",
    "sequence_loader.flush(ret_type=\"gb\", db=\"nuccore\")"
   ]
  },
  {
   "cell_type": "markdown",
   "id": "85f73947-847f-4955-8f5a-894f7dfaada0",
   "metadata": {},
   "source": [
    "<div class=\"alert alert-block alert-success\">\n",
    "<b>Brilliant</b> - Go to the path and check out, what you did!\n",
    "</div>"
   ]
  },
  {
   "cell_type": "markdown",
   "id": "feaea9d2-60ad-4bf7-af12-df43694c5f26",
   "metadata": {},
   "source": [
    "---\n",
    "# That's it for today"
   ]
  },
  {
   "cell_type": "markdown",
   "id": "55fdb428-776c-4dfe-af33-39204b7b55c5",
   "metadata": {},
   "source": [
    "Thanks a lot for following, please close your JupyterLab properly and enjoy the rest of the day ;-)"
   ]
  },
  {
   "cell_type": "markdown",
   "id": "221468a7-61fe-404d-bae2-fa8189ecfcf2",
   "metadata": {
    "tags": []
   },
   "source": [
    "---\n",
    "# Further reading"
   ]
  },
  {
   "cell_type": "markdown",
   "id": "1202e115-a2dd-4c54-8541-8adbf27759fc",
   "metadata": {},
   "source": [
    "[Jupyter Book](https://jupyterbook.org/intro.html) provides a book like organization of Jupyter notebooks. [Here](https://executablebooks.org/en/latest/gallery.html) is a nice gallery with a lot of inspiration."
   ]
  }
 ],
 "metadata": {
  "kernelspec": {
   "display_name": "Python 3 (ipykernel)",
   "language": "python",
   "name": "python3"
  },
  "language_info": {
   "codemirror_mode": {
    "name": "ipython",
    "version": 3
   },
   "file_extension": ".py",
   "mimetype": "text/x-python",
   "name": "python",
   "nbconvert_exporter": "python",
   "pygments_lexer": "ipython3",
   "version": "3.9.6"
  }
 },
 "nbformat": 4,
 "nbformat_minor": 5
}
